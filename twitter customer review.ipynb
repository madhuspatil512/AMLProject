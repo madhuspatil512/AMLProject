{
 "cells": [
  {
   "cell_type": "code",
   "execution_count": 1,
   "id": "70670b2a",
   "metadata": {},
   "outputs": [],
   "source": [
    "import numpy as np\n",
    "import pandas as pd\n",
    "import matplotlib.pyplot as plt\n",
    "import seaborn as sns\n",
    "from sklearn.feature_extraction.text import TfidfVectorizer\n",
    "from sklearn.linear_model import LogisticRegression\n",
    "from sklearn.metrics import accuracy_score,confusion_matrix,classification_report\n",
    "from sklearn.model_selection import train_test_split\n",
    "import re\n",
    "import string\n",
    "import time\n",
    "import joblib\n",
    "import bz2"
   ]
  },
  {
   "cell_type": "code",
   "execution_count": 2,
   "id": "5c8601a1",
   "metadata": {},
   "outputs": [],
   "source": [
    "# Get text and labels from raw file\n",
    "\n",
    "def get_data(filepath):\n",
    "    reviews = []\n",
    "    text = []\n",
    "    label = []\n",
    "    with bz2.BZ2File(filepath,\"r\") as f:\n",
    "        for line in f:\n",
    "            x = line.decode()\n",
    "            x = x.partition(\"_label__\")\n",
    "            reviews.append(x[2:])\n",
    "        pass\n",
    "    f.close()\n",
    "    for review in reviews:\n",
    "        label.append(review[0].split()[0])\n",
    "        text.append(' '.join(review[0].split()[1:]))\n",
    "        \n",
    "    return text,label"
   ]
  },
  {
   "cell_type": "code",
   "execution_count": 3,
   "id": "61a1b90c",
   "metadata": {},
   "outputs": [],
   "source": [
    "# Create dataframe\n",
    "\n",
    "def create_dataframe(filepath):\n",
    "    text,label = get_data(filepath)\n",
    "    data = {\"text\":text,\"label\":label}\n",
    "    df = pd.DataFrame(data)\n",
    "    print(\"Number of records:\",len(df))\n",
    "    df.dropna(inplace=True) # remove null records\n",
    "    df.reset_index(drop=True,inplace=True)\n",
    "    df[\"label\"] = df[\"label\"].astype(int)\n",
    "    print(\"Number of records after removing nulls:\",len(df))\n",
    "    \n",
    "    return df"
   ]
  },
  {
   "cell_type": "markdown",
   "id": "388ad719",
   "metadata": {},
   "source": [
    "## Create train dataframe\n"
   ]
  },
  {
   "cell_type": "code",
   "execution_count": 4,
   "id": "87c1ebdd",
   "metadata": {},
   "outputs": [
    {
     "name": "stdout",
     "output_type": "stream",
     "text": [
      "Number of records: 3600000\n",
      "Number of records after removing nulls: 3600000\n"
     ]
    },
    {
     "data": {
      "text/html": [
       "<div>\n",
       "<style scoped>\n",
       "    .dataframe tbody tr th:only-of-type {\n",
       "        vertical-align: middle;\n",
       "    }\n",
       "\n",
       "    .dataframe tbody tr th {\n",
       "        vertical-align: top;\n",
       "    }\n",
       "\n",
       "    .dataframe thead th {\n",
       "        text-align: right;\n",
       "    }\n",
       "</style>\n",
       "<table border=\"1\" class=\"dataframe\">\n",
       "  <thead>\n",
       "    <tr style=\"text-align: right;\">\n",
       "      <th></th>\n",
       "      <th>text</th>\n",
       "      <th>label</th>\n",
       "    </tr>\n",
       "  </thead>\n",
       "  <tbody>\n",
       "    <tr>\n",
       "      <th>0</th>\n",
       "      <td>Stuning even for the non-gamer: This sound tra...</td>\n",
       "      <td>1</td>\n",
       "    </tr>\n",
       "    <tr>\n",
       "      <th>1</th>\n",
       "      <td>The best soundtrack ever to anything.: I'm rea...</td>\n",
       "      <td>1</td>\n",
       "    </tr>\n",
       "    <tr>\n",
       "      <th>2</th>\n",
       "      <td>Amazing!: This soundtrack is my favorite music...</td>\n",
       "      <td>1</td>\n",
       "    </tr>\n",
       "    <tr>\n",
       "      <th>3</th>\n",
       "      <td>Excellent Soundtrack: I truly like this soundt...</td>\n",
       "      <td>1</td>\n",
       "    </tr>\n",
       "    <tr>\n",
       "      <th>4</th>\n",
       "      <td>Remember, Pull Your Jaw Off The Floor After He...</td>\n",
       "      <td>1</td>\n",
       "    </tr>\n",
       "  </tbody>\n",
       "</table>\n",
       "</div>"
      ],
      "text/plain": [
       "                                                text  label\n",
       "0  Stuning even for the non-gamer: This sound tra...      1\n",
       "1  The best soundtrack ever to anything.: I'm rea...      1\n",
       "2  Amazing!: This soundtrack is my favorite music...      1\n",
       "3  Excellent Soundtrack: I truly like this soundt...      1\n",
       "4  Remember, Pull Your Jaw Off The Floor After He...      1"
      ]
     },
     "execution_count": 4,
     "metadata": {},
     "output_type": "execute_result"
    }
   ],
   "source": [
    "# Load train data\n",
    "\n",
    "df = create_dataframe(\"train.ft.txt.bz2\")\n",
    "\n",
    "# Change labels to 0 and 1\n",
    "df['label'] = df['label'].apply(lambda x: 0 if x==1 else 1)\n",
    "\n",
    "df.head()"
   ]
  },
  {
   "cell_type": "code",
   "execution_count": 5,
   "id": "f2428299",
   "metadata": {},
   "outputs": [],
   "source": [
    "df = df[:500000]"
   ]
  },
  {
   "cell_type": "code",
   "execution_count": 6,
   "id": "6bdb72c7",
   "metadata": {},
   "outputs": [],
   "source": [
    "# Preprocessing function\n",
    "\n",
    "def preprocess_text(data):\n",
    "    # convert to string\n",
    "    data = str(data)\n",
    "    # convert to lowercase\n",
    "    data = data.lower()\n",
    "    # remove special characters\n",
    "    data = re.sub(r'[^\\w ]+','',data)\n",
    "    # remove links\n",
    "    data = re.sub(r'(http|https)?://\\S+|www\\.\\S+','',data)\n",
    "    # remove non-ascii\n",
    "    data = ''.join(word for word in data if ord(word) < 128)\n",
    "    # remove punctuation\n",
    "    data = data.translate(str.maketrans('','',string.punctuation))\n",
    "    # remove digits\n",
    "    data = re.sub(r'[\\d]+','',data)\n",
    "    # remove single letters\n",
    "    data = ' '.join(word for word in data.split() if len(word)>1)\n",
    "    # remove multiple spaces\n",
    "    data = ' '.join(data.split())\n",
    "    \n",
    "    return data"
   ]
  },
  {
   "cell_type": "markdown",
   "id": "86a0be78",
   "metadata": {},
   "source": [
    "## Apply the pre-process function on the text column"
   ]
  },
  {
   "cell_type": "code",
   "execution_count": 7,
   "id": "2939eb59",
   "metadata": {},
   "outputs": [
    {
     "data": {
      "text/html": [
       "<div>\n",
       "<style scoped>\n",
       "    .dataframe tbody tr th:only-of-type {\n",
       "        vertical-align: middle;\n",
       "    }\n",
       "\n",
       "    .dataframe tbody tr th {\n",
       "        vertical-align: top;\n",
       "    }\n",
       "\n",
       "    .dataframe thead th {\n",
       "        text-align: right;\n",
       "    }\n",
       "</style>\n",
       "<table border=\"1\" class=\"dataframe\">\n",
       "  <thead>\n",
       "    <tr style=\"text-align: right;\">\n",
       "      <th></th>\n",
       "      <th>text</th>\n",
       "      <th>label</th>\n",
       "    </tr>\n",
       "  </thead>\n",
       "  <tbody>\n",
       "    <tr>\n",
       "      <th>0</th>\n",
       "      <td>stuning even for the nongamer this sound track...</td>\n",
       "      <td>1</td>\n",
       "    </tr>\n",
       "    <tr>\n",
       "      <th>1</th>\n",
       "      <td>the best soundtrack ever to anything im readin...</td>\n",
       "      <td>1</td>\n",
       "    </tr>\n",
       "    <tr>\n",
       "      <th>2</th>\n",
       "      <td>amazing this soundtrack is my favorite music o...</td>\n",
       "      <td>1</td>\n",
       "    </tr>\n",
       "    <tr>\n",
       "      <th>3</th>\n",
       "      <td>excellent soundtrack truly like this soundtrac...</td>\n",
       "      <td>1</td>\n",
       "    </tr>\n",
       "    <tr>\n",
       "      <th>4</th>\n",
       "      <td>remember pull your jaw off the floor after hea...</td>\n",
       "      <td>1</td>\n",
       "    </tr>\n",
       "  </tbody>\n",
       "</table>\n",
       "</div>"
      ],
      "text/plain": [
       "                                                text  label\n",
       "0  stuning even for the nongamer this sound track...      1\n",
       "1  the best soundtrack ever to anything im readin...      1\n",
       "2  amazing this soundtrack is my favorite music o...      1\n",
       "3  excellent soundtrack truly like this soundtrac...      1\n",
       "4  remember pull your jaw off the floor after hea...      1"
      ]
     },
     "execution_count": 7,
     "metadata": {},
     "output_type": "execute_result"
    }
   ],
   "source": [
    "# Apply preprocessing function to dataframe\n",
    "\n",
    "df_copy = df.copy()\n",
    "df_copy.loc[:,\"text\"] = df_copy[\"text\"].apply(preprocess_text)\n",
    "df_copy.head()"
   ]
  },
  {
   "cell_type": "code",
   "execution_count": 8,
   "id": "bc35d68c",
   "metadata": {},
   "outputs": [
    {
     "data": {
      "text/plain": [
       "500000"
      ]
     },
     "execution_count": 8,
     "metadata": {},
     "output_type": "execute_result"
    }
   ],
   "source": [
    "# Remove any null values post pre-processing\n",
    "df_copy.dropna(inplace=True)\n",
    "len(df_copy)"
   ]
  },
  {
   "cell_type": "code",
   "execution_count": 9,
   "id": "933b1d11",
   "metadata": {},
   "outputs": [
    {
     "data": {
      "text/plain": [
       "1    252782\n",
       "0    247218\n",
       "Name: label, dtype: int64"
      ]
     },
     "execution_count": 9,
     "metadata": {},
     "output_type": "execute_result"
    }
   ],
   "source": [
    "# Label counts\n",
    "df_copy['label'].value_counts()"
   ]
  },
  {
   "cell_type": "markdown",
   "id": "0dae027a",
   "metadata": {},
   "source": [
    "## Train/Test split"
   ]
  },
  {
   "cell_type": "code",
   "execution_count": 10,
   "id": "2e3db8c6",
   "metadata": {},
   "outputs": [
    {
     "name": "stdout",
     "output_type": "stream",
     "text": [
      "Train set size: (400000, 2)\n",
      "Dev set size: (100000, 2)\n"
     ]
    }
   ],
   "source": [
    "# Split into train and dev sets\n",
    "\n",
    "df_train,df_test = train_test_split(df_copy,\n",
    "                                   test_size=0.2,\n",
    "                                   stratify=df_copy[\"label\"],\n",
    "                                   random_state=42)\n",
    "\n",
    "print(\"Train set size:\",df_train.shape)\n",
    "print(\"Dev set size:\",df_test.shape)"
   ]
  },
  {
   "cell_type": "markdown",
   "id": "1b110dec",
   "metadata": {},
   "source": [
    "## Vectorize text using TfidfVectorizer"
   ]
  },
  {
   "cell_type": "code",
   "execution_count": 11,
   "id": "8b74853e",
   "metadata": {},
   "outputs": [
    {
     "data": {
      "text/plain": [
       "((400000, 455560), (100000, 455560))"
      ]
     },
     "execution_count": 11,
     "metadata": {},
     "output_type": "execute_result"
    }
   ],
   "source": [
    "# Fit TfidfVectorizer\n",
    "\n",
    "tfidf = TfidfVectorizer()\n",
    "train_tfidf = tfidf.fit_transform(df_train[\"text\"])\n",
    "dev_tfidf = tfidf.transform(df_test[\"text\"])\n",
    "\n",
    "train_tfidf.shape,dev_tfidf.shape"
   ]
  },
  {
   "cell_type": "markdown",
   "id": "8799dc57",
   "metadata": {},
   "source": [
    "## Training Logistic Regression model"
   ]
  },
  {
   "cell_type": "code",
   "execution_count": 12,
   "id": "24a238d7",
   "metadata": {},
   "outputs": [],
   "source": [
    "# Fit LogisticRegression model\n",
    "\n",
    "labels = df_train['label']\n",
    "lr = LogisticRegression(solver=\"lbfgs\",max_iter=5000)\n",
    "model_lr = lr.fit(train_tfidf,labels)"
   ]
  },
  {
   "cell_type": "markdown",
   "id": "f54f4124",
   "metadata": {},
   "source": [
    "## Model predictions and metrics"
   ]
  },
  {
   "cell_type": "code",
   "execution_count": 13,
   "id": "0013f509",
   "metadata": {},
   "outputs": [
    {
     "name": "stdout",
     "output_type": "stream",
     "text": [
      "Accuracy for LR model: 0.90369\n"
     ]
    }
   ],
   "source": [
    "# Test model on test set\n",
    "\n",
    "predictions = model_lr.predict(dev_tfidf)\n",
    "\n",
    "print(\"Accuracy for LR model:\",accuracy_score(df_test[\"label\"],list(predictions)))"
   ]
  },
  {
   "cell_type": "code",
   "execution_count": 14,
   "id": "7518663e",
   "metadata": {},
   "outputs": [
    {
     "name": "stdout",
     "output_type": "stream",
     "text": [
      "\t\tClassification Report:\n",
      "\n",
      "               precision    recall  f1-score   support\n",
      "\n",
      "           0       0.90      0.90      0.90     49444\n",
      "           1       0.90      0.91      0.90     50556\n",
      "\n",
      "    accuracy                           0.90    100000\n",
      "   macro avg       0.90      0.90      0.90    100000\n",
      "weighted avg       0.90      0.90      0.90    100000\n",
      "\n"
     ]
    }
   ],
   "source": [
    "print(\"\\t\\tClassification Report:\\n\\n\",classification_report(df_test[\"label\"],list(predictions)))"
   ]
  },
  {
   "cell_type": "code",
   "execution_count": 15,
   "id": "3b647a6d",
   "metadata": {},
   "outputs": [
    {
     "data": {
      "image/png": "[encoded data removed]",
      "text/plain": [
       "<Figure size 360x360 with 2 Axes>"
      ]
     },
     "metadata": {
      "needs_background": "light"
     },
     "output_type": "display_data"
    }
   ],
   "source": [
    "cm = confusion_matrix(df_test[\"label\"],list(predictions),normalize='true')\n",
    "df_cm = pd.DataFrame(cm)\n",
    "fig = plt.figure(figsize=(5,5))\n",
    "ax = sns.heatmap(df_cm,annot=True,fmt='.2f')\n",
    "ax.set_xlabel(\"Predicted\")\n",
    "ax.set_ylabel(\"Actual\")\n",
    "plt.show()"
   ]
  },
  {
   "cell_type": "code",
   "execution_count": null,
   "id": "3c7113a8",
   "metadata": {},
   "outputs": [],
   "source": []
  },
  {
   "cell_type": "code",
   "execution_count": null,
   "id": "293c4d1e",
   "metadata": {},
   "outputs": [],
   "source": []
  }
 ],
 "metadata": {
  "kernelspec": {
   "display_name": "Python 3 (ipykernel)",
   "language": "python",
   "name": "python3"
  },
  "language_info": {
   "codemirror_mode": {
    "name": "ipython",
    "version": 3
   },
   "file_extension": ".py",
   "mimetype": "text/x-python",
   "name": "python",
   "nbconvert_exporter": "python",
   "pygments_lexer": "ipython3",
   "version": "3.9.7"
  }
 },
 "nbformat": 4,
 "nbformat_minor": 5
}
